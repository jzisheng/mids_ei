{
 "cells": [
  {
   "cell_type": "code",
   "execution_count": 1,
   "metadata": {},
   "outputs": [],
   "source": [
    "import os\n",
    "from os.path import join as pathjoin\n",
    "\n",
    "import rasterio\n",
    "from rasterio.plot import reshape_as_image\n",
    "import rasterio.mask\n",
    "from rasterio.features import rasterize\n",
    "\n",
    "import pandas as pd\n",
    "import geopandas as gpd\n",
    "from shapely.geometry import mapping, Point, Polygon, MultiPolygon\n",
    "from shapely.ops import cascaded_union\n",
    "\n",
    "import numpy as np\n",
    "import matplotlib.pyplot as plt\n",
    "from PIL import Image\n",
    "\n",
    "from tqdm import tqdm"
   ]
  },
  {
   "cell_type": "code",
   "execution_count": 2,
   "metadata": {},
   "outputs": [],
   "source": [
    "def getTask(coords):\n",
    "    # takes as input coordinates of the boundary to export to \n",
    "    # google cloud bucket\n",
    "    geom = ee.Geometry.Rectangle([coords[0],coords[1],coords[2],coords[3]]);\n",
    "    collection = ee.ImageCollection(\"USDA/NAIP/DOQQ\") \\\n",
    "                .filter(ee.Filter.date('2015-01-01', '2017-12-31'));\n",
    "    trueColor = collection.select(['R', 'G', 'B','N'])\n",
    "    trueColorVis = {\n",
    "      min: 0.0,\n",
    "      max: 255.0,\n",
    "    }\n",
    "    image = collection.sort('system:index', False).mosaic()\n",
    "    image = image.clip(geom)\n",
    "    image.projection()\n",
    "\n",
    "    task = ee.batch.Export.image.toCloudStorage(image=image,\n",
    "                                        region=image.geometry().bounds().\\\n",
    "                                        getInfo()['coordinates'],\n",
    "                                        description='power_plant',\n",
    "                                        outputBucket='earth_engine_data',\n",
    "                                        fileNamePrefix='power_plant',\n",
    "                                        scale=1)\n",
    "    return task\n",
    "\n",
    "def downloadGStorage(buck_name, local_addr):\n",
    "    os.system('export GOOGLE_APPLICATION_CREDENTIALS=\\\"key.json\\\"')\n",
    "    os.system('gsutil cp -r '+ buck_name + ' ' + local_addr)\n",
    "    pass\n",
    "\n",
    "\n"
   ]
  },
  {
   "cell_type": "code",
   "execution_count": 3,
   "metadata": {},
   "outputs": [],
   "source": [
    "# All the code for rasterizing image:\n",
    "\n",
    "def crop_image(img, y, x, h, w):\n",
    "    \"\"\"\n",
    "    Crop the image with given top-left anchor and corresponding width & height\n",
    "    :param img: image to be cropped\n",
    "    :param y: height of anchor\n",
    "    :param x: width of anchor\n",
    "    :param h: height of the patch\n",
    "    :param w: width of the patch\n",
    "    :return:\n",
    "    \"\"\"\n",
    "    if len(img.shape) == 2:\n",
    "        return img[y:y+w, x:x+h]\n",
    "    else:\n",
    "        return img[y:y+w, x:x+h, :]\n",
    "\n",
    "\n",
    "def make_grid(tile_size, patch_size, overlap=0):\n",
    "    \"\"\"\n",
    "    Extract patches at fixed locations. Output coordinates for Y,X as a list (not two lists)\n",
    "    :param tile_size: size of the tile (input image)\n",
    "    :param patch_size: size of the output patch\n",
    "    :param overlap: #overlapping pixels\n",
    "    :return:\n",
    "    \"\"\"\n",
    "    max_h = int(tile_size[0] - patch_size[0])\n",
    "    max_w = int(tile_size[1] - patch_size[1])\n",
    "\n",
    "    if max_h > 0 and max_w > 0:\n",
    "        h_step = int(np.ceil(tile_size[0] / (patch_size[0] - overlap)))\n",
    "        w_step = int(np.ceil(tile_size[1] / (patch_size[1] - overlap)))\n",
    "    else:\n",
    "        h_step = 1\n",
    "        w_step = 1\n",
    "    patch_grid_h = np.floor(np.linspace(0, max_h, h_step)).astype(np.int32)\n",
    "    patch_grid_w = np.floor(np.linspace(0, max_w, w_step)).astype(np.int32)\n",
    "\n",
    "    y, x = np.meshgrid(patch_grid_h, patch_grid_w)\n",
    "\n",
    "    return list(zip(y.flatten(), x.flatten()))\n",
    "\n",
    "\n",
    "def patch_tile(rgb, gt, patch_size, pad=0, overlap=0):\n",
    "    \"\"\"\n",
    "    Extract the given rgb and gt tiles into patches\n",
    "    :param rgb:\n",
    "    :param gt:\n",
    "    :param patch_size: size of the patches, should be a tuple of (h, w)\n",
    "    :param pad: #pixels to be padded around each tile, should be either \n",
    "    one element or four elements\n",
    "    :param overlap: #overlapping pixels between two patches in both vertical\n",
    "    and horizontal direction\n",
    "    :return: rgb and gt patches as well as coordinates\n",
    "    \"\"\"\n",
    "    # rgb = misc_utils.load_file(rgb_file)\n",
    "    # gt = misc_utils.load_file(gt_file)[:, :, 0]\n",
    "    np.testing.assert_array_equal(rgb.shape[:2], gt.shape)\n",
    "    grid_list = make_grid(\n",
    "        np.array(rgb.shape[:2]) + 2 * pad, patch_size, overlap)\n",
    "    \n",
    "    for y, x in grid_list:\n",
    "        rgb_patch = crop_image(\n",
    "            rgb, y, x, patch_size[0], patch_size[1])\n",
    "        gt_patch = crop_image(\n",
    "            gt, y, x, patch_size[0], patch_size[1])\n",
    "\n",
    "        yield rgb_patch, gt_patch, y, x\n",
    "\n",
    "\n",
    "def read_geotiff(geotiff_path):\n",
    "    \"\"\"Read geotiff, return reshaped image and metadata.\"\"\"\n",
    "    with rasterio.open(geotiff_path, 'r') as src:\n",
    "        img = src.read()\n",
    "        img_meta = src.meta\n",
    "    return reshape_as_image(img), img_meta\n",
    "\n",
    "def read_labels(labels_path, geotiff_crs):\n",
    "    \"\"\"Read geojson labels and convert projection, return geopandas dataframe.\"\"\"\n",
    "    labels = gpd.read_file(labels_path)\n",
    "    labels = labels[labels.geometry.notnull()]#[labels.building == 'yes']\n",
    "\n",
    "    return labels.to_crs({'init': geotiff_crs['init']})\n",
    "\n",
    "def make_dir_if_not_exists(path, return_path=False):\n",
    "    if not os.path.exists(path):\n",
    "        os.makedirs(path)\n",
    "    if return_path:\n",
    "        return path\n",
    "\n",
    "def save_image(img, path, name):\n",
    "    make_dir_if_not_exists(path)\n",
    "    data = Image.fromarray(img.astype(np.uint8))\n",
    "    data.save(pathjoin(path, name))\n",
    "\n",
    "def rasterize_labels(labels, img_size,img_meta):\n",
    "    \"\"\"\n",
    "    Draw rasterized labeled imagery based on corresponding geotiff image size.\n",
    "    :param labels: geopandas dataframe, must have 'geometry' column with Polygon objects\n",
    "    :img_size: corresponding geotiff image size\n",
    "    \"\"\"\n",
    "    new_polygons = []\n",
    "\n",
    "    for _, row in labels.iterrows():\n",
    "        if isinstance(row['geometry'], Polygon):\n",
    "            new_polygons.append(convert_polygon(\n",
    "                row['geometry'], img_meta['transform']))\n",
    "        elif isinstance(row['geometry'], MultiPolygon):\n",
    "            for poly in list(row['geometry']):\n",
    "                new_polygons.append(convert_polygon(\n",
    "                    poly, img_meta['transform']))\n",
    "        else:\n",
    "            continue\n",
    "    return rasterize(shapes=new_polygons, out_shape=img_size)\n",
    "\n",
    "def convert_polygon(rowcol_polygon, transform):\n",
    "    \"\"\"\n",
    "    Convert polygons from geojson rowcol coordinates to pixel positions\n",
    "    :param rowcol_polygon: geojson polygon(s)\n",
    "    :param transform: affine.Affine object, read from geotiff meta\n",
    "    \"\"\"\n",
    "    polygon_points = []\n",
    "\n",
    "    for point in np.array(rowcol_polygon.exterior.coords):\n",
    "        # transform rowcol coords to geotiff crs, using reverse affine transformation\n",
    "        polygon_points.append(~transform * point)\n",
    "\n",
    "    return Polygon(polygon_points)"
   ]
  },
  {
   "cell_type": "code",
   "execution_count": 4,
   "metadata": {},
   "outputs": [],
   "source": [
    "import geopandas as gpd\n",
    "import pandas as pd\n",
    "from shapely.geometry import Polygon\n",
    "from OSMPythonTools.api import Api\n",
    "\n",
    "'''This file contains the following functions:\n",
    "\n",
    "1. get_ids(geojson_file_path)\n",
    "\n",
    "Given a file_path, gets the ids for all the *ways* it contains\n",
    "Each id will be an input to the next function:\n",
    "\n",
    "2. get_coord(way_id)\n",
    "\n",
    "Returns a list with the coordinates of the vertices of this way.\n",
    "This function can be mapped on the output of the previous function\n",
    "to return a list of the coordinates of each *way*.\n",
    "\n",
    "The output of the get_coord function serves as an input to the next function:\n",
    "\n",
    "3. bound_box(list_of_coordinates)\n",
    "\n",
    "Constructs a box which bounds a *way* object and returns it as a Polygon object.\n",
    "\n",
    "'''\n",
    "def get_ids(geojson_file_path):\n",
    "    '''Given a geojson file path extracted from OCM\n",
    "    with different identified structures (*ways*),\n",
    "    this function returns a list with their ids.'''\n",
    "\n",
    "    #Read geojson file\n",
    "    geojson = gpd.read_file(geojson_file_path)\n",
    "\n",
    "    #Get the id colum and transform it in a list\n",
    "    ids = list(geojson.loc[:,'id'])\n",
    "\n",
    "    #Return list with ids\n",
    "    return(ids)\n",
    "\n",
    "\n",
    "def get_coord(way_id):\n",
    "    '''Given the id of one identified structure (*way*),\n",
    "    from OCM, this function returns a list with its coordinates'''\n",
    "\n",
    "    #Define empty list to store coordinates\n",
    "    coord = []\n",
    "\n",
    "    #Execute query using OCM API\n",
    "    #Requires command\n",
    "    #from OSMPythonTools.api import Api\n",
    "    api = Api()\n",
    "    query_results = api.query(way_id)\n",
    "    nodes = query_results.nodes()\n",
    "\n",
    "    #Get the coordinates for each node and store in list\n",
    "    for node in nodes:\n",
    "        coord.append(node.geometry()['coordinates'])\n",
    "\n",
    "    return(coord)\n",
    "\n",
    "\n",
    "def bound_box(list_of_coordinates):\n",
    "    '''Given a list of coordinates\n",
    "    (such as the output of function get_coords)\n",
    "    returns a rectangle which contains the polygon\n",
    "    defined by the coordinates.\n",
    "    This rectangle is itself returned as a polygon object.\n",
    "    Note that this is not the minimum bound box,\n",
    "    but rather the minimum bound box which is parallel to the x and y axis (parallels and meridians).\n",
    "\n",
    "    Requires\n",
    "    from shapely.geometry import Polygon.'''\n",
    "\n",
    "    #Collects x's and y's of polygons vertices\n",
    "    x = []\n",
    "    y = []\n",
    "    for vertex in list_of_coordinates:\n",
    "        x.append(vertex[0])\n",
    "        y.append(vertex[1])\n",
    "\n",
    "    #Define minimum and maximum values of x and y\n",
    "    min_x = min(x)\n",
    "    min_y = min(y)\n",
    "    max_x = max(x)\n",
    "    max_y = max(y)\n",
    "\n",
    "    #Define vertices of box\n",
    "    #Note that these are not point objects\n",
    "    #as polygon objects in shapely are not created from point objects\n",
    "    point_A = (min_x, min_y)\n",
    "    point_B = (min_x, max_y)\n",
    "    point_C = (max_x, max_y)\n",
    "    point_D = (max_x, min_y)\n",
    "\n",
    "    #Define bound box object as Polygon\n",
    "    box = Polygon([point_A, point_B, point_C, point_D])\n",
    "\n",
    "    #Return bound_box\n",
    "    return(box)"
   ]
  },
  {
   "cell_type": "code",
   "execution_count": 5,
   "metadata": {},
   "outputs": [],
   "source": [
    "import ee\n",
    "import os\n",
    "from ee import batch\n",
    "ee.Initialize()\n",
    "def getTask(coords):\n",
    "    # takes as input coordinates of the boundary to export to \n",
    "    # google cloud bucket\n",
    "    geom = ee.Geometry.Rectangle([coords[0],coords[1],coords[2],coords[3]]);\n",
    "    collection = ee.ImageCollection(\"USDA/NAIP/DOQQ\") \\\n",
    "                .filter(ee.Filter.date('2015-01-01', '2017-12-31'));\n",
    "    trueColor = collection.select(['R', 'G', 'B','N'])\n",
    "    trueColorVis = {\n",
    "      min: 0.0,\n",
    "      max: 255.0,\n",
    "    }\n",
    "    image = collection.sort('system:index', False).mosaic()\n",
    "    image = image.clip(geom)\n",
    "    image.projection()\n",
    "\n",
    "    task = ee.batch.Export.image.toCloudStorage(image=image,\n",
    "                                        region=image.geometry().bounds().\\\n",
    "                                        getInfo()['coordinates'],\n",
    "                                        description='power_plant',\n",
    "                                        outputBucket='earth_engine_data',\n",
    "                                        fileNamePrefix='power_plant',\n",
    "                                        scale=1)\n",
    "    return task\n",
    "\n",
    "def downloadGStorage(buck_name, local_addr):\n",
    "    os.system('export GOOGLE_APPLICATION_CREDENTIALS=\\\"key.json\\\"')\n",
    "    os.system('gsutil cp -r '+ buck_name + ' ' + local_addr)\n",
    "    pass"
   ]
  },
  {
   "cell_type": "markdown",
   "metadata": {},
   "source": [
    "Main demonstration:\n",
    "\n",
    "https://overpass-turbo.eu/s/QBq\n",
    " \n",
    "The below geojson was taken from the link above:\n",
    "\n",
    "simply open the link and open and exprot the geojson"
   ]
  },
  {
   "cell_type": "code",
   "execution_count": 6,
   "metadata": {},
   "outputs": [],
   "source": [
    "example_file = \"jsons/harris_nuclear.json\"\n",
    "\n",
    "#This geojson file contains the following *ways* in it:\n",
    "ids = get_ids(example_file)\n",
    "\n",
    "ids\n",
    "\n",
    "#The coordinates of the first *way* in the geojson file above is:\n",
    "coords = get_coord(ids[0])\n",
    "\n",
    "#We can also get the coordinates of all the *ways* in the previous file:\n",
    "all_coords = list(map(get_coord, ids))"
   ]
  },
  {
   "cell_type": "code",
   "execution_count": 7,
   "metadata": {},
   "outputs": [],
   "source": [
    "# These are the coordinates of the bounding box\n",
    "coords = [list(np.array(bound_box(coords).exterior)[:4][0]),"
   ]
  },
  {
   "cell_type": "code",
   "execution_count": 12,
   "metadata": {},
   "outputs": [
    {
     "data": {
      "text/plain": [
       "[-78.958369, 35.630099]"
      ]
     },
     "execution_count": 12,
     "metadata": {},
     "output_type": "execute_result"
    }
   ],
   "source": [
    "coords[0]"
   ]
  },
  {
   "cell_type": "code",
   "execution_count": 17,
   "metadata": {},
   "outputs": [
    {
     "data": {
      "text/plain": [
       "[-78.953271, 35.635666]"
      ]
     },
     "execution_count": 17,
     "metadata": {},
     "output_type": "execute_result"
    }
   ],
   "source": [
    "coords[2]"
   ]
  },
  {
   "cell_type": "code",
   "execution_count": 79,
   "metadata": {},
   "outputs": [],
   "source": [
    "coords =[-81.774545,35.20825,\n",
    "    -81.756545,35.22625]\n",
    "task = getTask(coords)\n",
    "\n",
    "# Step 1: download image from earth engine to google cloud\n",
    "task.start()\n",
    "\n",
    "task.status()\n",
    "\n",
    "# Step 2: download image from google cloud bucket to local directory\n",
    "downloadGStorage('gs://earth_engine_data', \n",
    "                 'test_download/')"
   ]
  },
  {
   "cell_type": "code",
   "execution_count": 83,
   "metadata": {},
   "outputs": [
    {
     "data": {
      "text/plain": [
       "[-78.958369, 35.630099]"
      ]
     },
     "execution_count": 83,
     "metadata": {},
     "output_type": "execute_result"
    }
   ],
   "source": [
    "coords[0]"
   ]
  },
  {
   "cell_type": "code",
   "execution_count": 82,
   "metadata": {},
   "outputs": [
    {
     "ename": "EEException",
     "evalue": "The Geometry.Rectangle constructor requires 2 points or 4 coordinates.",
     "output_type": "error",
     "traceback": [
      "\u001b[0;31m---------------------------------------------------------------------------\u001b[0m",
      "\u001b[0;31mEEException\u001b[0m                               Traceback (most recent call last)",
      "\u001b[0;32m<ipython-input-82-b844a5b19f9d>\u001b[0m in \u001b[0;36m<module>\u001b[0;34m()\u001b[0m\n\u001b[0;32m----> 1\u001b[0;31m \u001b[0mtask\u001b[0m \u001b[0;34m=\u001b[0m \u001b[0mgetTask\u001b[0m\u001b[0;34m(\u001b[0m\u001b[0mcoords\u001b[0m\u001b[0;34m)\u001b[0m\u001b[0;34m\u001b[0m\u001b[0;34m\u001b[0m\u001b[0m\n\u001b[0m",
      "\u001b[0;32m<ipython-input-79-41ffeee67b6c>\u001b[0m in \u001b[0;36mgetTask\u001b[0;34m(coords)\u001b[0m\n\u001b[1;32m      7\u001b[0m     \u001b[0;31m# takes as input coordinates of the boundary to export to\u001b[0m\u001b[0;34m\u001b[0m\u001b[0;34m\u001b[0m\u001b[0;34m\u001b[0m\u001b[0m\n\u001b[1;32m      8\u001b[0m     \u001b[0;31m# google cloud bucket\u001b[0m\u001b[0;34m\u001b[0m\u001b[0;34m\u001b[0m\u001b[0;34m\u001b[0m\u001b[0m\n\u001b[0;32m----> 9\u001b[0;31m     \u001b[0mgeom\u001b[0m \u001b[0;34m=\u001b[0m \u001b[0mee\u001b[0m\u001b[0;34m.\u001b[0m\u001b[0mGeometry\u001b[0m\u001b[0;34m.\u001b[0m\u001b[0mRectangle\u001b[0m\u001b[0;34m(\u001b[0m\u001b[0;34m[\u001b[0m\u001b[0mcoords\u001b[0m\u001b[0;34m[\u001b[0m\u001b[0;36m0\u001b[0m\u001b[0;34m]\u001b[0m\u001b[0;34m,\u001b[0m\u001b[0mcoords\u001b[0m\u001b[0;34m[\u001b[0m\u001b[0;36m1\u001b[0m\u001b[0;34m]\u001b[0m\u001b[0;34m,\u001b[0m\u001b[0mcoords\u001b[0m\u001b[0;34m[\u001b[0m\u001b[0;36m2\u001b[0m\u001b[0;34m]\u001b[0m\u001b[0;34m,\u001b[0m\u001b[0mcoords\u001b[0m\u001b[0;34m[\u001b[0m\u001b[0;36m3\u001b[0m\u001b[0;34m]\u001b[0m\u001b[0;34m]\u001b[0m\u001b[0;34m)\u001b[0m\u001b[0;34m;\u001b[0m\u001b[0;34m\u001b[0m\u001b[0;34m\u001b[0m\u001b[0m\n\u001b[0m\u001b[1;32m     10\u001b[0m     \u001b[0mcollection\u001b[0m \u001b[0;34m=\u001b[0m \u001b[0mee\u001b[0m\u001b[0;34m.\u001b[0m\u001b[0mImageCollection\u001b[0m\u001b[0;34m(\u001b[0m\u001b[0;34m\"USDA/NAIP/DOQQ\"\u001b[0m\u001b[0;34m)\u001b[0m                 \u001b[0;34m.\u001b[0m\u001b[0mfilter\u001b[0m\u001b[0;34m(\u001b[0m\u001b[0mee\u001b[0m\u001b[0;34m.\u001b[0m\u001b[0mFilter\u001b[0m\u001b[0;34m.\u001b[0m\u001b[0mdate\u001b[0m\u001b[0;34m(\u001b[0m\u001b[0;34m'2015-01-01'\u001b[0m\u001b[0;34m,\u001b[0m \u001b[0;34m'2017-12-31'\u001b[0m\u001b[0;34m)\u001b[0m\u001b[0;34m)\u001b[0m\u001b[0;34m;\u001b[0m\u001b[0;34m\u001b[0m\u001b[0;34m\u001b[0m\u001b[0m\n\u001b[1;32m     11\u001b[0m     \u001b[0mtrueColor\u001b[0m \u001b[0;34m=\u001b[0m \u001b[0mcollection\u001b[0m\u001b[0;34m.\u001b[0m\u001b[0mselect\u001b[0m\u001b[0;34m(\u001b[0m\u001b[0;34m[\u001b[0m\u001b[0;34m'R'\u001b[0m\u001b[0;34m,\u001b[0m \u001b[0;34m'G'\u001b[0m\u001b[0;34m,\u001b[0m \u001b[0;34m'B'\u001b[0m\u001b[0;34m,\u001b[0m\u001b[0;34m'N'\u001b[0m\u001b[0;34m]\u001b[0m\u001b[0;34m)\u001b[0m\u001b[0;34m\u001b[0m\u001b[0;34m\u001b[0m\u001b[0m\n",
      "\u001b[0;32m/usr/local/lib/python3.6/dist-packages/ee/geometry.py\u001b[0m in \u001b[0;36mRectangle\u001b[0;34m(coords, proj, geodesic, evenOdd, *args, **kwargs)\u001b[0m\n\u001b[1;32m    261\u001b[0m       \u001b[0;32mif\u001b[0m \u001b[0;32mnot\u001b[0m \u001b[0misinstance\u001b[0m\u001b[0;34m(\u001b[0m\u001b[0mxy\u001b[0m\u001b[0;34m,\u001b[0m \u001b[0;34m(\u001b[0m\u001b[0mlist\u001b[0m\u001b[0;34m,\u001b[0m \u001b[0mtuple\u001b[0m\u001b[0;34m)\u001b[0m\u001b[0;34m)\u001b[0m \u001b[0;32mor\u001b[0m \u001b[0mlen\u001b[0m\u001b[0;34m(\u001b[0m\u001b[0mxy\u001b[0m\u001b[0;34m)\u001b[0m \u001b[0;34m!=\u001b[0m \u001b[0;36m2\u001b[0m\u001b[0;34m:\u001b[0m\u001b[0;34m\u001b[0m\u001b[0;34m\u001b[0m\u001b[0m\n\u001b[1;32m    262\u001b[0m         raise ee_exception.EEException(\n\u001b[0;32m--> 263\u001b[0;31m             \u001b[0;34m'The Geometry.Rectangle constructor requires 2 points or 4 '\u001b[0m\u001b[0;34m\u001b[0m\u001b[0;34m\u001b[0m\u001b[0m\n\u001b[0m\u001b[1;32m    264\u001b[0m             'coordinates.')\n\u001b[1;32m    265\u001b[0m       \u001b[0mx1\u001b[0m \u001b[0;34m=\u001b[0m \u001b[0mxy\u001b[0m\u001b[0;34m[\u001b[0m\u001b[0;36m0\u001b[0m\u001b[0;34m]\u001b[0m\u001b[0;34m[\u001b[0m\u001b[0;36m0\u001b[0m\u001b[0;34m]\u001b[0m\u001b[0;34m\u001b[0m\u001b[0;34m\u001b[0m\u001b[0m\n",
      "\u001b[0;31mEEException\u001b[0m: The Geometry.Rectangle constructor requires 2 points or 4 coordinates."
     ]
    }
   ],
   "source": [
    "task = getTask(coords)"
   ]
  },
  {
   "cell_type": "code",
   "execution_count": 78,
   "metadata": {},
   "outputs": [
    {
     "ename": "NameError",
     "evalue": "name 'ee' is not defined",
     "output_type": "error",
     "traceback": [
      "\u001b[0;31m---------------------------------------------------------------------------\u001b[0m",
      "\u001b[0;31mNameError\u001b[0m                                 Traceback (most recent call last)",
      "\u001b[0;32m<ipython-input-78-b844a5b19f9d>\u001b[0m in \u001b[0;36m<module>\u001b[0;34m()\u001b[0m\n\u001b[0;32m----> 1\u001b[0;31m \u001b[0mtask\u001b[0m \u001b[0;34m=\u001b[0m \u001b[0mgetTask\u001b[0m\u001b[0;34m(\u001b[0m\u001b[0mcoords\u001b[0m\u001b[0;34m)\u001b[0m\u001b[0;34m\u001b[0m\u001b[0;34m\u001b[0m\u001b[0m\n\u001b[0m",
      "\u001b[0;32m<ipython-input-45-f7abd009b321>\u001b[0m in \u001b[0;36mgetTask\u001b[0;34m(coords)\u001b[0m\n\u001b[1;32m      2\u001b[0m     \u001b[0;31m# takes as input coordinates of the boundary to export to\u001b[0m\u001b[0;34m\u001b[0m\u001b[0;34m\u001b[0m\u001b[0;34m\u001b[0m\u001b[0m\n\u001b[1;32m      3\u001b[0m     \u001b[0;31m# google cloud bucket\u001b[0m\u001b[0;34m\u001b[0m\u001b[0;34m\u001b[0m\u001b[0;34m\u001b[0m\u001b[0m\n\u001b[0;32m----> 4\u001b[0;31m     \u001b[0mgeom\u001b[0m \u001b[0;34m=\u001b[0m \u001b[0mee\u001b[0m\u001b[0;34m.\u001b[0m\u001b[0mGeometry\u001b[0m\u001b[0;34m.\u001b[0m\u001b[0mRectangle\u001b[0m\u001b[0;34m(\u001b[0m\u001b[0;34m[\u001b[0m\u001b[0mcoords\u001b[0m\u001b[0;34m[\u001b[0m\u001b[0;36m0\u001b[0m\u001b[0;34m]\u001b[0m\u001b[0;34m,\u001b[0m\u001b[0mcoords\u001b[0m\u001b[0;34m[\u001b[0m\u001b[0;36m1\u001b[0m\u001b[0;34m]\u001b[0m\u001b[0;34m,\u001b[0m\u001b[0mcoords\u001b[0m\u001b[0;34m[\u001b[0m\u001b[0;36m2\u001b[0m\u001b[0;34m]\u001b[0m\u001b[0;34m,\u001b[0m\u001b[0mcoords\u001b[0m\u001b[0;34m[\u001b[0m\u001b[0;36m3\u001b[0m\u001b[0;34m]\u001b[0m\u001b[0;34m]\u001b[0m\u001b[0;34m)\u001b[0m\u001b[0;34m;\u001b[0m\u001b[0;34m\u001b[0m\u001b[0;34m\u001b[0m\u001b[0m\n\u001b[0m\u001b[1;32m      5\u001b[0m     \u001b[0mcollection\u001b[0m \u001b[0;34m=\u001b[0m \u001b[0mee\u001b[0m\u001b[0;34m.\u001b[0m\u001b[0mImageCollection\u001b[0m\u001b[0;34m(\u001b[0m\u001b[0;34m\"USDA/NAIP/DOQQ\"\u001b[0m\u001b[0;34m)\u001b[0m                 \u001b[0;34m.\u001b[0m\u001b[0mfilter\u001b[0m\u001b[0;34m(\u001b[0m\u001b[0mee\u001b[0m\u001b[0;34m.\u001b[0m\u001b[0mFilter\u001b[0m\u001b[0;34m.\u001b[0m\u001b[0mdate\u001b[0m\u001b[0;34m(\u001b[0m\u001b[0;34m'2015-01-01'\u001b[0m\u001b[0;34m,\u001b[0m \u001b[0;34m'2017-12-31'\u001b[0m\u001b[0;34m)\u001b[0m\u001b[0;34m)\u001b[0m\u001b[0;34m;\u001b[0m\u001b[0;34m\u001b[0m\u001b[0;34m\u001b[0m\u001b[0m\n\u001b[1;32m      6\u001b[0m     \u001b[0mtrueColor\u001b[0m \u001b[0;34m=\u001b[0m \u001b[0mcollection\u001b[0m\u001b[0;34m.\u001b[0m\u001b[0mselect\u001b[0m\u001b[0;34m(\u001b[0m\u001b[0;34m[\u001b[0m\u001b[0;34m'R'\u001b[0m\u001b[0;34m,\u001b[0m \u001b[0;34m'G'\u001b[0m\u001b[0;34m,\u001b[0m \u001b[0;34m'B'\u001b[0m\u001b[0;34m,\u001b[0m\u001b[0;34m'N'\u001b[0m\u001b[0;34m]\u001b[0m\u001b[0;34m)\u001b[0m\u001b[0;34m\u001b[0m\u001b[0;34m\u001b[0m\u001b[0m\n",
      "\u001b[0;31mNameError\u001b[0m: name 'ee' is not defined"
     ]
    }
   ],
   "source": [
    "\n",
    "task.status()\n",
    "\n",
    "\n",
    "# Step 2: download image from google cloud bucket to local directory\n",
    "downloadGStorage('gs://earth_engine_data', \n",
    "                 'test_download/')"
   ]
  },
  {
   "cell_type": "code",
   "execution_count": 43,
   "metadata": {},
   "outputs": [
    {
     "name": "stderr",
     "output_type": "stream",
     "text": [
      "/usr/local/lib/python3.6/dist-packages/pyproj/crs.py:77: FutureWarning: '+init=<authority>:<code>' syntax is deprecated. '<authority>:<code>' is the preferred initialization method.\n",
      "  return _prepare_from_string(\" \".join(pjargs))\n"
     ]
    }
   ],
   "source": [
    "def get_image(filename,json_filepath):\n",
    "    patch_size = (500,500)\n",
    "    # This will read the image and the meta data\n",
    "    img,img_meta = read_geotiff('images/{}.tif'.format(filename))\n",
    "    # get the image sizes\n",
    "    img_size = (img_meta['height'], img_meta['width'])\n",
    "    # readthe crs\n",
    "    #labels = read_labels('jsons/{}.json'.format(filename),  img_meta['crs'])\n",
    "    labels = read_labels(json_filepath,  img_meta['crs'])\n",
    "    gt =rasterize_labels(labels, img_size,img_meta)\n",
    "    labels\n",
    "    img_patches_dir = 'images/patches/rgb'\n",
    "    gt_patches_dir = 'images/patches/gt'\n",
    "    loc='nia'\n",
    "    idx=0\n",
    "    for img_patch, gt_patch, y, x in patch_tile(img, gt, patch_size):\n",
    "        idx+=1\n",
    "        img_patchname='img-{}-{}.png'.format(filename,idx)\n",
    "        gt_patchname='gt-{}-{}.png'.format(filename,idx)\n",
    "        save_image(img_patch, pathjoin(\n",
    "            img_patches_dir, loc), img_patchname)\n",
    "        save_image(gt_patch*255, pathjoin(\n",
    "            gt_patches_dir, loc), gt_patchname)\n",
    "\n",
    "# this will fetch the image hard coded from images/harris_nuclear.tif\n",
    "get_image('harris_nuclear',example_file)"
   ]
  },
  {
   "cell_type": "code",
   "execution_count": 41,
   "metadata": {},
   "outputs": [
    {
     "data": {
      "text/plain": [
       "'jsons/harris_nuclear.json'"
      ]
     },
     "execution_count": 41,
     "metadata": {},
     "output_type": "execute_result"
    }
   ],
   "source": [
    "example_file"
   ]
  },
  {
   "cell_type": "code",
   "execution_count": 101,
   "metadata": {},
   "outputs": [],
   "source": [
    "import ee\n",
    "import os\n",
    "import time\n",
    "from ee import batch\n",
    "ee.Initialize()\n",
    "def getTask(coords):\n",
    "    # takes as input coordinates of the boundary to export to \n",
    "    # google cloud bucket\n",
    "    geom = ee.Geometry.Rectangle([coords[0],coords[1],coords[2],coords[3]]);\n",
    "    collection = ee.ImageCollection(\"USDA/NAIP/DOQQ\") \\\n",
    "                .filter(ee.Filter.date('2015-01-01', '2017-12-31'));\n",
    "    trueColor = collection.select(['R', 'G', 'B','N'])\n",
    "    trueColorVis = {\n",
    "      min: 0.0,\n",
    "      max: 255.0,\n",
    "    }\n",
    "    image = collection.sort('system:index', False).mosaic()\n",
    "    image = image.clip(geom)\n",
    "    image.projection()\n",
    "\n",
    "    task = ee.batch.Export.image.toCloudStorage(image=image,\n",
    "                                        region=image.geometry().bounds().\\\n",
    "                                        getInfo()['coordinates'],\n",
    "                                        description='power_plant',\n",
    "                                        outputBucket='earth_engine_data',\n",
    "                                        fileNamePrefix='power_plant',\n",
    "                                        scale=1)\n",
    "    return task\n",
    "\n",
    "def downloadGStorage(buck_name, local_addr):\n",
    "    os.system('export GOOGLE_APPLICATION_CREDENTIALS=\\\"key.json\\\"')\n",
    "    os.system('gsutil cp -r '+ buck_name + ' ' + local_addr)\n",
    "    pass\n",
    "\n",
    "\n",
    "\n",
    "coords =[-81.774545,35.20825,\n",
    "    -81.756545,35.22625]\n",
    "task = getTask(coords)"
   ]
  },
  {
   "cell_type": "code",
   "execution_count": 102,
   "metadata": {},
   "outputs": [],
   "source": [
    "# Step 1: download image from earth engine to google cloud\n",
    "task.start()"
   ]
  },
  {
   "cell_type": "code",
   "execution_count": 103,
   "metadata": {},
   "outputs": [],
   "source": [
    "while (task.status()['state'] != 'COMPLETED'):\n",
    "    time.sleep(2)"
   ]
  },
  {
   "cell_type": "code",
   "execution_count": 104,
   "metadata": {},
   "outputs": [],
   "source": [
    "# Step 2: download image from google cloud bucket to local directory\n",
    "downloadGStorage('gs://earth_engine_data', \n",
    "                 'tifs/')"
   ]
  },
  {
   "cell_type": "code",
   "execution_count": null,
   "metadata": {},
   "outputs": [],
   "source": []
  }
 ],
 "metadata": {
  "kernelspec": {
   "display_name": "Python 3",
   "language": "python",
   "name": "python3"
  },
  "language_info": {
   "codemirror_mode": {
    "name": "ipython",
    "version": 3
   },
   "file_extension": ".py",
   "mimetype": "text/x-python",
   "name": "python",
   "nbconvert_exporter": "python",
   "pygments_lexer": "ipython3",
   "version": "3.6.9"
  }
 },
 "nbformat": 4,
 "nbformat_minor": 4
}
