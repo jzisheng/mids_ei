{
 "cells": [
  {
   "cell_type": "code",
   "execution_count": 10,
   "metadata": {},
   "outputs": [],
   "source": [
    "# remember to restart the notebook everytime you made changes to pipeline.py\n",
    "from pipeline import *\n",
    "import random"
   ]
  },
  {
   "cell_type": "markdown",
   "metadata": {},
   "source": [
    "WORKING CODE FOR THE TOOL BELOW:"
   ]
  },
  {
   "cell_type": "markdown",
   "metadata": {},
   "source": [
    "Main demonstration:\n",
    "\n",
    "https://overpass-turbo.eu/s/QBq\n",
    " \n",
    "The below geojson was taken from the link above:\n",
    "\n",
    "simply open the link and open and exprot the geojson\n",
    "\n",
    "\n",
    "For a solar panel ground truth set:\n",
    "http://overpass-turbo.eu/s/R6y\n"
   ]
  },
  {
   "cell_type": "code",
   "execution_count": 11,
   "metadata": {},
   "outputs": [],
   "source": [
    "# functionality 2: pick random image with certain coords"
   ]
  },
  {
   "cell_type": "code",
   "execution_count": 12,
   "metadata": {},
   "outputs": [],
   "source": [
    "#json file name\n",
    "allPlants= \"eastern_US\"\n",
    "allPlantsGeojson = \"jsons/\"+allPlants+\".geojson\"\n",
    "#here print to see available power plants\n",
    "dic_idToName = get_ids(allPlantsGeojson)\n",
    "#print(dic_idToName)"
   ]
  },
  {
   "cell_type": "code",
   "execution_count": 13,
   "metadata": {},
   "outputs": [],
   "source": [
    "#need to wait for downloading from GGE\n",
    "image_type = \"NAIP\"\n",
    "plant_id = list(dic_idToName.keys())[0]\n",
    "randImageName = \"random_one\" + \"-\" + image_type \n",
    "randCoords = np.array([\n",
    "    [-78.085,  35.391],\n",
    "    [-78.085,  35.395],\n",
    "    [-78.080,  35.395],\n",
    "    [-78.080,  35.391],\n",
    "    [-78.085,  35.391]])\n",
    "res = ggeToGoogleDr(allPlants, allPlantsGeojson, randCoords, randImageName, \"NAIP\")\n",
    "if res == -1:\n",
    "    print(\"Incorrect input image type, please stop and check.\")"
   ]
  },
  {
   "cell_type": "code",
   "execution_count": 14,
   "metadata": {},
   "outputs": [],
   "source": [
    "# step 2\n",
    "googleDrToLocal(allPlants, 'gs://earth_engine_data', 'gee_images/')"
   ]
  },
  {
   "cell_type": "code",
   "execution_count": 15,
   "metadata": {},
   "outputs": [
    {
     "name": "stderr",
     "output_type": "stream",
     "text": [
      "/usr/local/lib/python3.6/dist-packages/pyproj/crs.py:77: FutureWarning: '+init=<authority>:<code>' syntax is deprecated. '<authority>:<code>' is the preferred initialization method.\n",
      "  return _prepare_from_string(\" \".join(pjargs))\n"
     ]
    }
   ],
   "source": [
    "# step 3\n",
    "# this will fetch the image\n",
    "# and rasterize the image to see if certain plant in it\n",
    "# this one has no power plant in it, so it will be rasterized as a black image\n",
    "get_rast_image(randImageName,'gee_images/earth_engine_data/'+randImageName +'.tif', allPlantsGeojson, 'images/patches/', plant_id, image_type)"
   ]
  },
  {
   "cell_type": "code",
   "execution_count": null,
   "metadata": {},
   "outputs": [],
   "source": []
  }
 ],
 "metadata": {
  "kernelspec": {
   "display_name": "Python 3",
   "language": "python",
   "name": "python3"
  },
  "language_info": {
   "codemirror_mode": {
    "name": "ipython",
    "version": 3
   },
   "file_extension": ".py",
   "mimetype": "text/x-python",
   "name": "python",
   "nbconvert_exporter": "python",
   "pygments_lexer": "ipython3",
   "version": "3.6.9"
  }
 },
 "nbformat": 4,
 "nbformat_minor": 4
}
