{
 "cells": [
  {
   "cell_type": "code",
   "execution_count": 1,
   "metadata": {},
   "outputs": [],
   "source": [
    "# remember to restart the notebook everytime you made changes to pipeline.py\n",
    "from pipeline import *"
   ]
  },
  {
   "cell_type": "markdown",
   "metadata": {},
   "source": [
    "WORKING CODE FOR THE TOOL BELOW:"
   ]
  },
  {
   "cell_type": "markdown",
   "metadata": {},
   "source": [
    "Main demonstration:\n",
    "\n",
    "https://overpass-turbo.eu/s/QBq\n",
    " \n",
    "The below geojson was taken from the link above:\n",
    "\n",
    "simply open the link and open and exprot the geojson\n",
    "\n",
    "\n",
    "For a solar panel ground truth set:\n",
    "http://overpass-turbo.eu/s/R6y\n"
   ]
  },
  {
   "cell_type": "code",
   "execution_count": 2,
   "metadata": {},
   "outputs": [],
   "source": [
    "# functionality 2: pick random image with certain coords"
   ]
  },
  {
   "cell_type": "code",
   "execution_count": 3,
   "metadata": {},
   "outputs": [],
   "source": [
    "#json file name\n",
    "allPlants= \"eastern_US\"\n",
    "allPlantsGeojson = \"jsons/\"+allPlants+\".geojson\"\n",
    "#here print to see available power plants\n",
    "dic_idToName = get_ids(allPlantsGeojson)\n",
    "#print(dic_idToName)"
   ]
  },
  {
   "cell_type": "code",
   "execution_count": 4,
   "metadata": {},
   "outputs": [],
   "source": [
    "#need to wait for downloading from GGE\n",
    "image_type = \"SAR\"\n",
    "randImageName = \"random_one\" + \"-\" + image_type \n",
    "randCoords = np.array([\n",
    "    [-78.085,  35.391],\n",
    "    [-78.085,  35.395],\n",
    "    [-78.080,  35.395],\n",
    "    [-78.080,  35.391],\n",
    "    [-78.085,  35.391]])\n",
    "res = ggeToGoogleDr(allPlants, allPlantsGeojson, randCoords, randImageName, \"NAIP\")\n",
    "if res == -1:\n",
    "    print(\"Incorrect input image type, please stop and check.\")"
   ]
  },
  {
   "cell_type": "code",
   "execution_count": 5,
   "metadata": {},
   "outputs": [],
   "source": [
    "# step 2\n",
    "googleDrToLocal(allPlants, 'gs://earth_engine_data', 'gee_images/')"
   ]
  },
  {
   "cell_type": "code",
   "execution_count": 6,
   "metadata": {},
   "outputs": [
    {
     "ename": "NameError",
     "evalue": "name 'plant_id' is not defined",
     "output_type": "error",
     "traceback": [
      "\u001b[0;31m---------------------------------------------------------------------------\u001b[0m",
      "\u001b[0;31mNameError\u001b[0m                                 Traceback (most recent call last)",
      "\u001b[0;32m<ipython-input-6-963dd0e6762a>\u001b[0m in \u001b[0;36m<module>\u001b[0;34m()\u001b[0m\n\u001b[1;32m      3\u001b[0m \u001b[0;31m# and rasterize the image to see if certain plant in it\u001b[0m\u001b[0;34m\u001b[0m\u001b[0;34m\u001b[0m\u001b[0;34m\u001b[0m\u001b[0m\n\u001b[1;32m      4\u001b[0m \u001b[0;31m# this one has no power plant in it, so it will be rasterized as a black image\u001b[0m\u001b[0;34m\u001b[0m\u001b[0;34m\u001b[0m\u001b[0;34m\u001b[0m\u001b[0m\n\u001b[0;32m----> 5\u001b[0;31m \u001b[0mget_rast_image\u001b[0m\u001b[0;34m(\u001b[0m\u001b[0mrandImageName\u001b[0m\u001b[0;34m,\u001b[0m\u001b[0;34m'gee_images/earth_engine_data/'\u001b[0m\u001b[0;34m+\u001b[0m\u001b[0mrandImageName\u001b[0m \u001b[0;34m+\u001b[0m\u001b[0;34m'.tif'\u001b[0m\u001b[0;34m,\u001b[0m \u001b[0mallPlantsGeojson\u001b[0m\u001b[0;34m,\u001b[0m \u001b[0;34m'images/patches/'\u001b[0m\u001b[0;34m,\u001b[0m \u001b[0mplant_id\u001b[0m\u001b[0;34m)\u001b[0m\u001b[0;34m\u001b[0m\u001b[0;34m\u001b[0m\u001b[0m\n\u001b[0m",
      "\u001b[0;31mNameError\u001b[0m: name 'plant_id' is not defined"
     ]
    }
   ],
   "source": [
    "# step 3\n",
    "# this will fetch the image\n",
    "# and rasterize the image to see if certain plant in it\n",
    "# this one has no power plant in it, so it will be rasterized as a black image\n",
    "get_rast_image(randImageName,'gee_images/earth_engine_data/'+randImageName +'.tif', allPlantsGeojson, 'images/patches/', plant_id, image_type)"
   ]
  }
 ],
 "metadata": {
  "kernelspec": {
   "display_name": "Python 3",
   "language": "python",
   "name": "python3"
  },
  "language_info": {
   "codemirror_mode": {
    "name": "ipython",
    "version": 3
   },
   "file_extension": ".py",
   "mimetype": "text/x-python",
   "name": "python",
   "nbconvert_exporter": "python",
   "pygments_lexer": "ipython3",
   "version": "3.6.9"
  }
 },
 "nbformat": 4,
 "nbformat_minor": 4
}
