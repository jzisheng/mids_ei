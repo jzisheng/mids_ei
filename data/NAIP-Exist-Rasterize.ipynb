{
 "cells": [
  {
   "cell_type": "code",
   "execution_count": 1,
   "metadata": {},
   "outputs": [
    {
     "data": {
      "text/plain": [
       "<module 'pipeline' from '/home/zjc4/Capstone/mids_ei/data/pipeline.py'>"
      ]
     },
     "execution_count": 1,
     "metadata": {},
     "output_type": "execute_result"
    }
   ],
   "source": [
    "# remember to restart the notebook everytime you made changes to pipeline.py\n",
    "import numpy as np\n",
    "import pipeline as p\n",
    "import imp\n",
    "imp.reload(p)"
   ]
  },
  {
   "cell_type": "markdown",
   "metadata": {},
   "source": [
    "WORKING CODE FOR THE TOOL BELOW:"
   ]
  },
  {
   "cell_type": "markdown",
   "metadata": {},
   "source": [
    "Main demonstration:\n",
    "\n",
    "https://overpass-turbo.eu/s/QBq\n",
    " \n",
    "The below geojson was taken from the link above:\n",
    "\n",
    "simply open the link and open and exprot the geojson\n",
    "\n",
    "\n",
    "For a solar panel ground truth set:\n",
    "http://overpass-turbo.eu/s/R6y\n"
   ]
  },
  {
   "cell_type": "code",
   "execution_count": 2,
   "metadata": {},
   "outputs": [],
   "source": [
    "#functionality 1, pick power plant from exist record"
   ]
  },
  {
   "cell_type": "code",
   "execution_count": 3,
   "metadata": {},
   "outputs": [],
   "source": [
    "#json file name\n",
    "allPlants= \"eastern_US\"\n",
    "allPlantsGeojson = \"jsons/\"+allPlants+\".geojson\"\n",
    "#here print to see available power plants\n",
    "dic_idToName = p.get_ids(allPlantsGeojson)\n",
    "#print(dic_idToName)"
   ]
  },
  {
   "cell_type": "code",
   "execution_count": null,
   "metadata": {},
   "outputs": [
    {
     "name": "stdout",
     "output_type": "stream",
     "text": [
      "way/69342304\n",
      "Intercession City Plant DUKE\n",
      "way/69515745\n",
      "Indian River Power Station\n",
      "way/69962263\n",
      "Cane Island Power Park\n"
     ]
    }
   ],
   "source": [
    "#need to wait for a while to have it for downloading\n",
    "#We are now using record of power plants in eastern US\n",
    "\n",
    "#identified by id\n",
    "\n",
    "stored = []\n",
    "image_type = \"NAIP\"\n",
    "for i in range(60,65):\n",
    "    #functionality 1, type way id here to grab certain power plant, way id can be looked up from \"dic_idToName\" dictionary\n",
    "    plant_id = list(dic_idToName.keys())[i] #'way/40238958'\n",
    "    print(plant_id)\n",
    "    plant_name = dic_idToName[plant_id] #Mercer Generating Station\n",
    "    print(plant_name)\n",
    "    imageName = plant_id.replace('/', '-') + \"-\" + str(plant_name)+ \"-\" + str(image_type)\n",
    "    stored.append((plant_id, imageName))\n",
    "    allCoords = p.get_coord(plant_id)\n",
    "    bBoxCoords = np.array(p.bound_box(allCoords).exterior)\n",
    "    # step 1, download from gge to google drive by inputing coordinates\n",
    "    res = p.ggeToGoogleDr(allPlants, allPlantsGeojson, bBoxCoords, imageName, image_type)\n",
    "    if res == -1:\n",
    "        print(\"Incorrect input image type, please stop and check.\")"
   ]
  },
  {
   "cell_type": "code",
   "execution_count": null,
   "metadata": {},
   "outputs": [],
   "source": [
    "# step 2\n",
    "p.googleDrToLocal(allPlants, 'gs://earth_engine_data', 'gee_images/')"
   ]
  },
  {
   "cell_type": "code",
   "execution_count": null,
   "metadata": {},
   "outputs": [],
   "source": [
    "# step 3\n",
    "# this will fetch the image\n",
    "# and rasterize the image\n",
    "# we can only rasterize NAIP image for now\n",
    "for plant_id, imageName in stored:\n",
    "    p.get_rast_image(imageName,'gee_images/earth_engine_data/'+imageName+'.tif', allPlantsGeojson, 'images/patches/', plant_id, image_type)"
   ]
  },
  {
   "cell_type": "markdown",
   "metadata": {},
   "source": [
    "Image processed can be found in images/patches."
   ]
  },
  {
   "cell_type": "markdown",
   "metadata": {},
   "source": [
    "Functionality 1 DONE"
   ]
  },
  {
   "cell_type": "code",
   "execution_count": null,
   "metadata": {},
   "outputs": [],
   "source": []
  }
 ],
 "metadata": {
  "kernelspec": {
   "display_name": "Python 3",
   "language": "python",
   "name": "python3"
  },
  "language_info": {
   "codemirror_mode": {
    "name": "ipython",
    "version": 3
   },
   "file_extension": ".py",
   "mimetype": "text/x-python",
   "name": "python",
   "nbconvert_exporter": "python",
   "pygments_lexer": "ipython3",
   "version": "3.6.9"
  }
 },
 "nbformat": 4,
 "nbformat_minor": 4
}
