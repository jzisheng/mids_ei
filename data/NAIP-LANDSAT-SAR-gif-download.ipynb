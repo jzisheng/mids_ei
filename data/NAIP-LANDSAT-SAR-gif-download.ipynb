{
 "cells": [
  {
   "cell_type": "markdown",
   "metadata": {},
   "source": [
    "WORKING CODE FOR THE TOOL BELOW:"
   ]
  },
  {
   "cell_type": "markdown",
   "metadata": {},
   "source": [
    "Main demonstration:\n",
    "\n",
    "https://overpass-turbo.eu/s/QBq\n",
    " \n",
    "The below geojson was taken from the link above:\n",
    "\n",
    "simply open the link and open and exprot the geojson\n",
    "\n",
    "\n",
    "For a solar panel ground truth set:\n",
    "http://overpass-turbo.eu/s/R6y\n"
   ]
  },
  {
   "cell_type": "code",
   "execution_count": 5,
   "metadata": {},
   "outputs": [],
   "source": [
    "#functionality 3, download different types of images\n",
    "#only three types of input are accepted:\n",
    "#SAR, LANDSAT, NAIP"
   ]
  },
  {
   "cell_type": "code",
   "execution_count": 6,
   "metadata": {},
   "outputs": [],
   "source": [
    "# remember to restart the notebook everytime you made changes to pipeline.py\n",
    "from pipeline import *\n",
    "#json file name\n",
    "allPlants= \"eastern_US\"\n",
    "allPlantsGeojson = \"jsons/\"+allPlants+\".geojson\"\n",
    "#here print to see available power plants\n",
    "dic_idToName = get_ids(allPlantsGeojson)\n",
    "#print(dic_idToName)"
   ]
  },
  {
   "cell_type": "code",
   "execution_count": 8,
   "metadata": {},
   "outputs": [
    {
     "name": "stdout",
     "output_type": "stream",
     "text": [
      "way/69342304\n",
      "way-69342304-Intercession City Plant DUKE-NAIP\n",
      "way/69515745\n",
      "way-69515745-Indian River Power Station-NAIP\n",
      "way/69962263\n",
      "way-69962263-Cane Island Power Park-NAIP\n",
      "way/69966315\n",
      "way-69966315-DeCew I Generating Station-NAIP\n",
      "way/70080734\n",
      "way-70080734-Indian River Generating Station-NAIP\n",
      "way/69342304\n",
      "way-69342304-Intercession City Plant DUKE-SAR\n",
      "way/69515745\n",
      "way-69515745-Indian River Power Station-SAR\n",
      "way/69962263\n",
      "way-69962263-Cane Island Power Park-SAR\n",
      "way/69966315\n",
      "way-69966315-DeCew I Generating Station-SAR\n",
      "way/70080734\n",
      "way-70080734-Indian River Generating Station-SAR\n"
     ]
    }
   ],
   "source": [
    "#need to wait for a while to have it for downloading\n",
    "#We are now using record of power plants in eastern US\n",
    "\n",
    "#identified by id\n",
    "\n",
    "stored = []\n",
    "image_types = [\"NAIP\",  \"SAR\"]\n",
    "\n",
    "for image_type in image_types:\n",
    "    for i in range(60,65):\n",
    "        #functionality 1, type way id here to grab certain power plant, way id can be looked up from \"dic_idToName\" dictionary\n",
    "        plant_id = list(dic_idToName.keys())[i] #'way/40238958'\n",
    "        print(plant_id)\n",
    "        plant_name = dic_idToName[plant_id] #Mercer Generating Station\n",
    "        imageName = plant_id.replace('/', '-') + \"-\" + str(plant_name)+ \"-\" + str(image_type)\n",
    "        print(imageName)\n",
    "        stored.append((plant_id, imageName))\n",
    "        allCoords = get_coord(plant_id)\n",
    "        bBoxCoords = np.array(bound_box(allCoords).exterior)\n",
    "        # step 1, download from gge to google drive by inputing coordinates\n",
    "        res = ggeToGoogleDr(allPlants, allPlantsGeojson, bBoxCoords, imageName, image_type)\n",
    "        if res == -1:\n",
    "            print(\"Incorrect input image type, please stop and check.\")"
   ]
  },
  {
   "cell_type": "code",
   "execution_count": 9,
   "metadata": {},
   "outputs": [],
   "source": [
    "# step 2\n",
    "googleDrToLocal(allPlants, 'gs://earth_engine_data', 'gee_images/')"
   ]
  },
  {
   "cell_type": "code",
   "execution_count": null,
   "metadata": {},
   "outputs": [],
   "source": []
  }
 ],
 "metadata": {
  "kernelspec": {
   "display_name": "Python 3",
   "language": "python",
   "name": "python3"
  },
  "language_info": {
   "codemirror_mode": {
    "name": "ipython",
    "version": 3
   },
   "file_extension": ".py",
   "mimetype": "text/x-python",
   "name": "python",
   "nbconvert_exporter": "python",
   "pygments_lexer": "ipython3",
   "version": "3.6.9"
  }
 },
 "nbformat": 4,
 "nbformat_minor": 4
}
