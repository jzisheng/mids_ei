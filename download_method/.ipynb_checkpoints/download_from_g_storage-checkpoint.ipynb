{
 "cells": [
  {
   "cell_type": "markdown",
   "metadata": {},
   "source": [
    "\n",
    "pip install google-cloud-storage\n",
    "\n",
    "export GOOGLE_APPLICATION_CREDENTIALS=\"/path/to/file.json\"\n",
    "\n",
    "path is the json file here: https://console.cloud.google.com/apis/credentials/serviceaccountkey?hl=zh-cn&_ga=2.119253385.1609939662.1581712494-1022690170.1581712494&project=round-cable-268220&folder&organizationId"
   ]
  },
  {
   "cell_type": "code",
   "execution_count": 2,
   "metadata": {},
   "outputs": [],
   "source": [
    "import os\n",
    "def download_from_g_storage_working(buck_name, local_addr):\n",
    "    os.system('export GOOGLE_APPLICATION_CREDENTIALS=\\\"key.json\\\"')\n",
    "    os.system('gsutil cp -r '+ buck_name + ' ' + local_addr)\n",
    "\n",
    "download_from_g_storage_working('gs://earth_engine_data', \n",
    "                                'test_download/')\n"
   ]
  }
 ],
 "metadata": {
  "kernelspec": {
   "display_name": "Python 3",
   "language": "python",
   "name": "python3"
  },
  "language_info": {
   "codemirror_mode": {
    "name": "ipython",
    "version": 3
   },
   "file_extension": ".py",
   "mimetype": "text/x-python",
   "name": "python",
   "nbconvert_exporter": "python",
   "pygments_lexer": "ipython3",
   "version": "3.6.9"
  }
 },
 "nbformat": 4,
 "nbformat_minor": 4
}
