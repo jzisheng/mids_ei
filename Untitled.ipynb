{
 "cells": [
  {
   "cell_type": "code",
   "execution_count": 1,
   "metadata": {},
   "outputs": [],
   "source": [
    "import ee\n",
    "import os\n",
    "from ee import batch\n",
    "ee.Initialize()"
   ]
  },
  {
   "cell_type": "code",
   "execution_count": 2,
   "metadata": {},
   "outputs": [],
   "source": [
    "def getTask(coords):\n",
    "    geom = ee.Geometry.Rectangle([coords[0],coords[1],coords[2],coords[3]]);\n",
    "    collection = ee.ImageCollection(\"USDA/NAIP/DOQQ\") \\\n",
    "                .filter(ee.Filter.date('2015-01-01', '2017-12-31'));\n",
    "    trueColor = collection.select(['R', 'G', 'B','N'])\n",
    "    trueColorVis = {\n",
    "      min: 0.0,\n",
    "      max: 255.0,\n",
    "    }\n",
    "    image = collection.sort('system:index', False).mosaic()\n",
    "    image = image.clip(geom)\n",
    "    image.projection()\n",
    "\n",
    "    task = ee.batch.Export.image.toCloudStorage(image=image,\n",
    "                                        region=image.geometry().bounds().\\\n",
    "                                        getInfo()['coordinates'],\n",
    "                                        description='power_plant',\n",
    "                                        outputBucket='earth_engine_data',\n",
    "                                        fileNamePrefix='power_plant',\n",
    "                                        scale=1)\n",
    "    return task\n",
    "\n",
    "def downloadGStorage(buck_name, local_addr):\n",
    "    os.system('export GOOGLE_APPLICATION_CREDENTIALS=\\\"key.json\\\"')\n",
    "    os.system('gsutil cp -r '+ buck_name + ' ' + local_addr)\n",
    "    pass\n",
    "\n",
    "\n",
    "\n",
    "coords =[-81.774545,35.20825,\n",
    "    -81.756545,35.22625]\n",
    "task = getTask(coords)"
   ]
  },
  {
   "cell_type": "code",
   "execution_count": null,
   "metadata": {},
   "outputs": [],
   "source": [
    "task.start()"
   ]
  },
  {
   "cell_type": "code",
   "execution_count": null,
   "metadata": {},
   "outputs": [],
   "source": [
    "downloadGStorage('gs://earth_engine_data', \n",
    "                 'bucket_download/')"
   ]
  }
 ],
 "metadata": {
  "kernelspec": {
   "display_name": "Python 3",
   "language": "python",
   "name": "python3"
  },
  "language_info": {
   "codemirror_mode": {
    "name": "ipython",
    "version": 3
   },
   "file_extension": ".py",
   "mimetype": "text/x-python",
   "name": "python",
   "nbconvert_exporter": "python",
   "pygments_lexer": "ipython3",
   "version": "3.6.9"
  }
 },
 "nbformat": 4,
 "nbformat_minor": 4
}
